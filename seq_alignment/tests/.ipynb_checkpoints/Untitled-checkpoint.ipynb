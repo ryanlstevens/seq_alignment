{
 "cells": [
  {
   "cell_type": "code",
   "execution_count": 72,
   "id": "consecutive-forum",
   "metadata": {},
   "outputs": [],
   "source": [
    "# Add Parent Directory to Python Path (HACK: DON\"T PUT IN PRODUCTION)\n",
    "import os \n",
    "import inspect \n",
    "import sys \n",
    "import timeit \n",
    "currentdir = os.path.dirname(os.path.abspath(inspect.getfile(inspect.currentframe())))\n",
    "parentdir = os.path.dirname(currentdir)\n",
    "sys.path.insert(0,parentdir)\n",
    "\n",
    "# Get path to data files\n",
    "path_to_data = os.path.join(parentdir,'data/seq_alignments/seq_alignment.csv')\n",
    "\n",
    "# PYTHON RELOAD THE SOURCE FILE\n",
    "from seq_alignment.local_similarity import main\n",
    "from seq_alignment.local_similarity import main_test\n",
    "from seq_alignment.helpers.speed_test import create_test_data, run_matching\n",
    "from functools import partial "
   ]
  },
  {
   "cell_type": "code",
   "execution_count": 73,
   "id": "historic-chile",
   "metadata": {},
   "outputs": [],
   "source": [
    "# Create test data #\n",
    "test_data = create_test_data(path_to_data)\n",
    "\n",
    "str1 = 'grapevineinthejungle'\n",
    "str2 = 'vinesinthesafari'"
   ]
  },
  {
   "cell_type": "code",
   "execution_count": 77,
   "id": "satellite-cement",
   "metadata": {},
   "outputs": [
    {
     "data": {
      "text/plain": [
       "<module 'seq_alignment.local_similarity.main_test' from '/Users/ryanstevens/Documents/github/py_string_matchers/seq_alignment/local_similarity/main_test.py'>"
      ]
     },
     "execution_count": 77,
     "metadata": {},
     "output_type": "execute_result"
    }
   ],
   "source": [
    "from importlib import reload\n",
    "reload(main_test)\n"
   ]
  },
  {
   "cell_type": "code",
   "execution_count": 78,
   "id": "tough-martin",
   "metadata": {},
   "outputs": [],
   "source": [
    "wf_new = main_test.local_similarity_test(test_data[7][0],test_data[7][1],backtrace=False)"
   ]
  },
  {
   "cell_type": "code",
   "execution_count": 79,
   "id": "innocent-reasoning",
   "metadata": {},
   "outputs": [
    {
     "name": "stdout",
     "output_type": "stream",
     "text": [
      "(i,j) (2,1) : 0\n",
      "(i,j) (2,1) : 0\n",
      "(i,j) (2,2) : 0\n",
      "(i,j) (2,2) : 0\n",
      "(i,j) (2,3) : 0\n",
      "(i,j) (2,3) : 0\n",
      "(i,j) (2,4) : 2\n",
      "(i,j) (2,4) : 2\n",
      "(i,j) (2,5) : 1\n",
      "(i,j) (2,5) : 1\n",
      "(i,j) (2,6) : 0\n",
      "(i,j) (2,6) : 0\n",
      "(i,j) (2,7) : 0\n",
      "(i,j) (2,7) : 0\n",
      "(i,j) (2,8) : 0\n",
      "(i,j) (2,8) : 0\n",
      "(i,j) (2,9) : 0\n",
      "(i,j) (2,9) : 0\n",
      "(i,j) (2,10) : 0\n",
      "(i,j) (2,10) : 0\n",
      "556\n"
     ]
    }
   ],
   "source": [
    "wf_new.run()"
   ]
  },
  {
   "cell_type": "code",
   "execution_count": 80,
   "id": "further-moscow",
   "metadata": {},
   "outputs": [
    {
     "name": "stdout",
     "output_type": "stream",
     "text": [
      "129\n"
     ]
    }
   ],
   "source": [
    "wf_curr = main.local_similarity(test_data[7][0],test_data[7][1],backtrace=False)\n",
    "wf_curr.run()"
   ]
  },
  {
   "cell_type": "code",
   "execution_count": null,
   "id": "physical-mailing",
   "metadata": {},
   "outputs": [],
   "source": []
  }
 ],
 "metadata": {
  "kernelspec": {
   "display_name": "Python 3",
   "language": "python",
   "name": "python3"
  },
  "language_info": {
   "codemirror_mode": {
    "name": "ipython",
    "version": 3
   },
   "file_extension": ".py",
   "mimetype": "text/x-python",
   "name": "python",
   "nbconvert_exporter": "python",
   "pygments_lexer": "ipython3",
   "version": "3.9.0"
  }
 },
 "nbformat": 4,
 "nbformat_minor": 5
}
