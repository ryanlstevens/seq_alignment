{
 "cells": [
  {
   "cell_type": "code",
   "execution_count": 1,
   "id": "russian-limit",
   "metadata": {},
   "outputs": [],
   "source": [
    "# Add Parent Directory to Python Path (HACK: DON\"T PUT IN PRODUCTION)\n",
    "import os \n",
    "import inspect \n",
    "import sys \n",
    "import timeit \n",
    "currentdir = os.path.dirname(os.path.abspath(inspect.getfile(inspect.currentframe())))\n",
    "parentdir = os.path.dirname(currentdir)\n",
    "sys.path.insert(0,parentdir)\n",
    "\n",
    "# Get path to data files\n",
    "path_to_data = os.path.join(parentdir,'data/seq_alignments/seq_alignment.csv')\n",
    "\n",
    "# PYTHON RELOAD THE SOURCE FILE\n",
    "from seq_alignment.local_similarity import main\n",
    "from seq_alignment.local_similarity import main_test\n",
    "from seq_alignment.helpers.speed_test import create_test_data, run_matching\n",
    "from functools import partial "
   ]
  },
  {
   "cell_type": "code",
   "execution_count": 2,
   "id": "acting-supervisor",
   "metadata": {},
   "outputs": [],
   "source": [
    "# Create test data #\n",
    "test_data = create_test_data(path_to_data)\n",
    "\n",
    "str1 = 'grapevineinthejungle'\n",
    "str2 = 'vinesinthesafari'"
   ]
  },
  {
   "cell_type": "code",
   "execution_count": 70,
   "id": "naughty-madonna",
   "metadata": {},
   "outputs": [
    {
     "name": "stdout",
     "output_type": "stream",
     "text": [
      "556\n",
      "\n",
      "\n",
      "Old code\n",
      "\n",
      "\n",
      "556\n"
     ]
    }
   ],
   "source": [
    "from importlib import reload\n",
    "reload(main_test)\n",
    "reload(main)\n",
    "wf_new = main_test.local_similarity_test(test_data[7][0],test_data[7][1],backtrace=False)\n",
    "wf_new.run()\n",
    "\n",
    "print('\\n\\nOld code\\n\\n')\n",
    "wf_curr = main.local_similarity(test_data[7][0],test_data[7][1],backtrace=False)\n",
    "wf_curr.run()"
   ]
  },
  {
   "cell_type": "code",
   "execution_count": 68,
   "id": "amino-martin",
   "metadata": {},
   "outputs": [
    {
     "data": {
      "text/plain": [
       "133"
      ]
     },
     "execution_count": 68,
     "metadata": {},
     "output_type": "execute_result"
    }
   ],
   "source": [
    "wf_curr.edit_array[125,128]"
   ]
  },
  {
   "cell_type": "code",
   "execution_count": 29,
   "id": "welcome-literacy",
   "metadata": {},
   "outputs": [
    {
     "data": {
      "text/plain": [
       "array([0, 0, 0, 0, 0, 0, 0, 0, 3, 6], dtype=int8)"
      ]
     },
     "execution_count": 29,
     "metadata": {},
     "output_type": "execute_result"
    }
   ],
   "source": [
    "wf_curr.edit_array[80,20:30]"
   ]
  },
  {
   "cell_type": "code",
   "execution_count": 34,
   "id": "unknown-balloon",
   "metadata": {},
   "outputs": [
    {
     "data": {
      "text/plain": [
       "127"
      ]
     },
     "execution_count": 34,
     "metadata": {},
     "output_type": "execute_result"
    }
   ],
   "source": [
    "import numpy as np\n",
    "np.max(wf_new.edit_array)"
   ]
  },
  {
   "cell_type": "code",
   "execution_count": 35,
   "id": "serial-premises",
   "metadata": {},
   "outputs": [
    {
     "data": {
      "text/plain": [
       "127"
      ]
     },
     "execution_count": 35,
     "metadata": {},
     "output_type": "execute_result"
    }
   ],
   "source": [
    "np.max(wf_curr.edit_array)"
   ]
  },
  {
   "cell_type": "code",
   "execution_count": 48,
   "id": "otherwise-transsexual",
   "metadata": {},
   "outputs": [],
   "source": [
    "x=0\n",
    "for i in range(1,20):\n",
    "    if i>x:\n",
    "        x=i"
   ]
  },
  {
   "cell_type": "code",
   "execution_count": 49,
   "id": "dated-baseball",
   "metadata": {},
   "outputs": [
    {
     "data": {
      "text/plain": [
       "19"
      ]
     },
     "execution_count": 49,
     "metadata": {},
     "output_type": "execute_result"
    }
   ],
   "source": [
    "x"
   ]
  },
  {
   "cell_type": "code",
   "execution_count": null,
   "id": "funded-sending",
   "metadata": {},
   "outputs": [],
   "source": []
  }
 ],
 "metadata": {
  "kernelspec": {
   "display_name": "Python 3",
   "language": "python",
   "name": "python3"
  },
  "language_info": {
   "codemirror_mode": {
    "name": "ipython",
    "version": 3
   },
   "file_extension": ".py",
   "mimetype": "text/x-python",
   "name": "python",
   "nbconvert_exporter": "python",
   "pygments_lexer": "ipython3",
   "version": "3.9.0"
  }
 },
 "nbformat": 4,
 "nbformat_minor": 5
}
