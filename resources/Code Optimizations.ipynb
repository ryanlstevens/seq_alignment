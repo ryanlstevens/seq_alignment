{
 "cells": [
  {
   "cell_type": "markdown",
   "metadata": {},
   "source": [
    "# Code optimizations\n",
    "\n",
    "This document will contain optimization techniques. I will focus both on python-specific and string-matching specific optimizations\n",
    "\n",
    "# Python-Specific Optimizations"
   ]
  },
  {
   "cell_type": "markdown",
   "metadata": {},
   "source": [
    "## Turn For-Loops into Map Calls\n",
    "### [Source](https://wiki.python.org/moin/PythonSpeed/PerformanceTips)\n",
    "\n",
    "* Big optimization gains from moving from for loop to map\n",
    "* No optimization gains from pre-compiling function "
   ]
  },
  {
   "cell_type": "code",
   "execution_count": 13,
   "metadata": {},
   "outputs": [
    {
     "name": "stdout",
     "output_type": "stream",
     "text": [
      "For Loop Runtime : 10.15\n",
      "For Loop Runtime : 0.96\n"
     ]
    }
   ],
   "source": [
    "import timeit\n",
    "\n",
    "## Code using for loop\n",
    "s = \"\"\"\\\n",
    "oldList = list(range(100))\n",
    "newlist = []\n",
    "for i in oldList:\n",
    "    newlist.append(i**(1/2))\"\"\"\n",
    "print('For Loop Runtime : {0:2.2f}'.format(timeit.timeit(s)))\n",
    "\n",
    "## Code using map + lambda\n",
    "s = \"\"\"\\\n",
    "oldList = list(range(100))\n",
    "lambdaFunc = lambda i : i**(1/2)\n",
    "newlist = map(lambdaFunc,oldList)\n",
    "\"\"\"\n",
    "print('For Loop Runtime : {0:2.2f}'.format(timeit.timeit(s)))"
   ]
  },
  {
   "cell_type": "code",
   "execution_count": 16,
   "metadata": {},
   "outputs": [
    {
     "name": "stdout",
     "output_type": "stream",
     "text": [
      "For Loop Runtime (Lambda) : 11.75\n",
      "For Loop Runtime (Regular) : 11.80\n"
     ]
    }
   ],
   "source": [
    "## Code using map + lambda\n",
    "s = \"\"\"\\\n",
    "oldList = list(range(1000))\n",
    "lambdaFunc = lambda i : i**(1/2)\n",
    "newlist = map(lambdaFunc,oldList)\n",
    "\"\"\"\n",
    "print('For Loop Runtime (Lambda) : {0:2.2f}'.format(timeit.timeit(s)))\n",
    "\n",
    "## Code using map + function\n",
    "s = \"\"\"\\\n",
    "oldList = list(range(1000))\n",
    "def regFunc(i): i**(1/2)\n",
    "newlist = map(regFunc,oldList)\n",
    "\"\"\"\n",
    "print('For Loop Runtime (Regular) : {0:2.2f}'.format(timeit.timeit(s)))"
   ]
  },
  {
   "cell_type": "code",
   "execution_count": null,
   "metadata": {},
   "outputs": [],
   "source": []
  }
 ],
 "metadata": {
  "kernelspec": {
   "display_name": "Python 3",
   "language": "python",
   "name": "python3"
  },
  "language_info": {
   "codemirror_mode": {
    "name": "ipython",
    "version": 3
   },
   "file_extension": ".py",
   "mimetype": "text/x-python",
   "name": "python",
   "nbconvert_exporter": "python",
   "pygments_lexer": "ipython3",
   "version": "3.8.5"
  }
 },
 "nbformat": 4,
 "nbformat_minor": 4
}
