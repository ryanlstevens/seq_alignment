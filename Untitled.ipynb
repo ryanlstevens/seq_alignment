{
 "cells": [
  {
   "cell_type": "code",
   "execution_count": 29,
   "id": "unknown-mozambique",
   "metadata": {},
   "outputs": [
    {
     "name": "stdout",
     "output_type": "stream",
     "text": [
      "Improvement by 6.16X\n"
     ]
    }
   ],
   "source": [
    "from time import time \n",
    "import csv \n",
    "import os\n",
    "from src.wagner_fisher_similarity import main as wf_curr\n",
    "from src.wagner_fisher_similarity import main_test as wf_new\n",
    "\n",
    "\n",
    "# Directory where script resides\n",
    "try:\n",
    "    path_to_script = os.path.dirname(os.path.realpath(__file__)) \n",
    "except:\n",
    "    path_to_script = '/Users/ryanstevens/Documents/github/py_string_matchers/src/helpers/'\n",
    "path_to_data = os.path.join(path_to_script,'../../data/seq_alignments/seq_alignment.csv')\n",
    "\n",
    "# ~~~ Read in testing data ~~~ #\n",
    "def create_alignment_test_data(path_to_data):\n",
    "    alignment_tests=[]\n",
    "    with open(path_to_data) as ifile:\n",
    "        reader = csv.reader(ifile)\n",
    "        for r in reader:\n",
    "            alignment_tests.append((r[0],r[1]))\n",
    "        \n",
    "    alignment_tests = alignment_tests[:10]\n",
    "    \n",
    "    return(alignment_tests)\n",
    "\n",
    "\n",
    "# ~~~ Create timing function ~~~ #\n",
    "def time_matching(wf_class,alignment_tests,backtrace=False):\n",
    "\n",
    "    start=time()\n",
    "\n",
    "    for elems in alignment_tests:\n",
    "        # Initalize matching class function\n",
    "        wf_init = wf_class.wagner_fisher_similarity(elems[0],elems[1],backtrace)\n",
    "        # Run matching \n",
    "        wf_init.run() \n",
    "\n",
    "    return(time()-start)\n",
    "\n",
    "# Create test data #\n",
    "alignment_data = create_alignment_test_data(path_to_data)\n",
    "\n",
    "# Run speed test on old code + new code #\n",
    "curr_version = time_matching(wf_curr,alignment_data,False)\n",
    "new_version = time_matching(wf_new,alignment_tests,False)\n",
    "\n",
    "# Return improvement\n",
    "print('Improvement by {0:2.2f}X'.format(curr_version/new_version))"
   ]
  },
  {
   "cell_type": "code",
   "execution_count": 60,
   "id": "facial-violence",
   "metadata": {},
   "outputs": [
    {
     "data": {
      "text/plain": [
       "<module 'src.wagner_fisher_similarity.main_test' from '/Users/ryanstevens/Documents/github/py_string_matchers/src/wagner_fisher_similarity/main_test.py'>"
      ]
     },
     "execution_count": 60,
     "metadata": {},
     "output_type": "execute_result"
    }
   ],
   "source": [
    "reload(wf_new)"
   ]
  },
  {
   "cell_type": "code",
   "execution_count": 62,
   "id": "cardiac-temperature",
   "metadata": {},
   "outputs": [],
   "source": [
    "elems=(['v','i','n','e'],['v','i','n'])\n",
    "wf_init = wf_new.wagner_fisher_similarity(elems[0],elems[1],False)"
   ]
  },
  {
   "cell_type": "code",
   "execution_count": 63,
   "id": "utility-treasurer",
   "metadata": {},
   "outputs": [
    {
     "name": "stdout",
     "output_type": "stream",
     "text": [
      "Row Num 0, Values [0, -1, -2, -3]\n",
      "Row Num 1, Values [-1, 0, -1, -2]\n",
      "Row Num 2, Values [-2, -1, 0, -1]\n",
      "Row Num 3, Values [-3, -2, -1, 0]\n",
      "Row Num 4, Values [-4, -3, -2, -1]\n"
     ]
    }
   ],
   "source": [
    "wf_init.run()"
   ]
  },
  {
   "cell_type": "code",
   "execution_count": 65,
   "id": "dated-cornwall",
   "metadata": {},
   "outputs": [],
   "source": [
    "wf_init_2 = wf_new.wagner_fisher_similarity(elems[0],elems[1],True)\n",
    "wf_init_2.run()"
   ]
  },
  {
   "cell_type": "code",
   "execution_count": 66,
   "id": "turkish-laser",
   "metadata": {},
   "outputs": [
    {
     "data": {
      "text/plain": [
       "array([[ 0, -1, -2, -3],\n",
       "       [-1,  0, -1, -2],\n",
       "       [-2, -1,  0, -1],\n",
       "       [-3, -2, -1,  0],\n",
       "       [-4, -3, -2, -1]], dtype=int8)"
      ]
     },
     "execution_count": 66,
     "metadata": {},
     "output_type": "execute_result"
    }
   ],
   "source": [
    "wf_init_2.edit_array"
   ]
  },
  {
   "cell_type": "code",
   "execution_count": 49,
   "id": "inclusive-swaziland",
   "metadata": {},
   "outputs": [
    {
     "data": {
      "text/plain": [
       "True"
      ]
     },
     "execution_count": 49,
     "metadata": {},
     "output_type": "execute_result"
    }
   ],
   "source": [
    "backtrace_table=np.array(wf_init.backtrace_table)\n",
    "correct_answer = np.array([['⇐', '⇐', '⇐', '⇐'],\n",
    "                              ['⇑', '⇖', '⇐', '⇐'],\n",
    "                              ['⇑', '⇑', '⇖', '⇐'],\n",
    "                              ['⇑', '⇑', '⇑', '⇖'],\n",
    "                              ['⇑', '⇑', '⇑', '⇑']])\n",
    "    \n",
    "np.array_equal(backtrace_table, correct_answer)"
   ]
  },
  {
   "cell_type": "code",
   "execution_count": null,
   "id": "careful-hours",
   "metadata": {},
   "outputs": [],
   "source": []
  }
 ],
 "metadata": {
  "kernelspec": {
   "display_name": "Python 3",
   "language": "python",
   "name": "python3"
  },
  "language_info": {
   "codemirror_mode": {
    "name": "ipython",
    "version": 3
   },
   "file_extension": ".py",
   "mimetype": "text/x-python",
   "name": "python",
   "nbconvert_exporter": "python",
   "pygments_lexer": "ipython3",
   "version": "3.9.0"
  }
 },
 "nbformat": 4,
 "nbformat_minor": 5
}
