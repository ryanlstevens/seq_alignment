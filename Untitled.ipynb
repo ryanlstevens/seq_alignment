{
 "cells": [
  {
   "cell_type": "code",
   "execution_count": 1,
   "id": "experimental-dialogue",
   "metadata": {},
   "outputs": [],
   "source": [
    "# Add Parent Directory to Python Path (HACK: DON\"T PUT IN PRODUCTION)\n",
    "import os \n",
    "import inspect \n",
    "import sys \n",
    "import timeit \n",
    "currentdir = os.path.dirname(os.path.abspath(inspect.getfile(inspect.currentframe())))\n",
    "sys.path.insert(0,currentdir)\n",
    "\n",
    "# Get path to data files\n",
    "path_to_data = os.path.join(currentdir,'data/seq_alignments/seq_alignment.csv')\n"
   ]
  },
  {
   "cell_type": "code",
   "execution_count": 2,
   "id": "czech-veteran",
   "metadata": {},
   "outputs": [
    {
     "data": {
      "text/plain": [
       "-1"
      ]
     },
     "execution_count": 2,
     "metadata": {},
     "output_type": "execute_result"
    }
   ],
   "source": [
    "# ~~~ Wagner Fischer ~~~ #\n",
    "from seq_alignment.wagner_fisher  import main as wagner_fisher\n",
    "\n",
    "str1=['v','i','n','e']\n",
    "str2=['v','i','n']  \n",
    "\n",
    "# Initalize matching class function\n",
    "wf_init = wagner_fisher.wagner_fisher(str1,str2,False)\n",
    "\n",
    "wf_init.run()\n",
    "\n",
    "wf_init.match_distance"
   ]
  },
  {
   "cell_type": "code",
   "execution_count": 3,
   "id": "molecular-hayes",
   "metadata": {},
   "outputs": [],
   "source": [
    "from seq_alignment.wagner_fisher.main import wagner_fisher as wf\n",
    "import edit_distance \n",
    "from functools import partial\n",
    "import timeit"
   ]
  },
  {
   "cell_type": "code",
   "execution_count": 4,
   "id": "initial-tiffany",
   "metadata": {},
   "outputs": [],
   "source": [
    "from seq_alignment.helpers.speed_test import create_test_data, run_matching\n",
    "# Create test data #\n",
    "test_data = create_test_data(path_to_data)"
   ]
  },
  {
   "cell_type": "code",
   "execution_count": 5,
   "id": "secret-anthony",
   "metadata": {},
   "outputs": [],
   "source": [
    "# ~~~ Create timing function ~~~ #\n",
    "def wf_test(run_function,test_data,backtrace=False):\n",
    "    for elems in test_data:\n",
    "        # Initalize matching class function\n",
    "        wf_init = run_function(elems[0],elems[1],backtrace)\n",
    "        # Run matching \n",
    "        wf_init.run()\n",
    "        \n",
    "def ed_test(run_function,test_data):\n",
    "    for elems in test_data:\n",
    "        # Initalize matching class function\n",
    "        wf_init = run_function.SequenceMatcher(elems[0],elems[1])\n",
    "        # Run matching \n",
    "        wf_init.distance()"
   ]
  },
  {
   "cell_type": "code",
   "execution_count": 6,
   "id": "treated-restriction",
   "metadata": {},
   "outputs": [],
   "source": [
    "# Run speed test on old code + new code #\n",
    "curr_version = timeit.Timer(partial(wf_test,run_function=wf,test_data=test_data,backtrace=False))\n",
    "new_version = timeit.Timer(partial(ed_test,run_function=edit_distance,test_data=test_data))\n",
    "curr_version_run = curr_version.timeit(30)\n",
    "new_version_run = new_version.timeit(30)"
   ]
  },
  {
   "cell_type": "code",
   "execution_count": 7,
   "id": "oriented-fountain",
   "metadata": {},
   "outputs": [
    {
     "data": {
      "text/plain": [
       "0.7650477868063142"
      ]
     },
     "execution_count": 7,
     "metadata": {},
     "output_type": "execute_result"
    }
   ],
   "source": [
    "new_version_run/curr_version_run"
   ]
  },
  {
   "cell_type": "code",
   "execution_count": 40,
   "id": "healthy-farmer",
   "metadata": {},
   "outputs": [],
   "source": [
    "def equal(n):\n",
    "    idx=range(0,n)\n",
    "    j=0\n",
    "    for i in idx:\n",
    "        j+=i\n",
    "\n",
    "def index(n):\n",
    "    j=0\n",
    "    for i in range(0,n):\n",
    "        j+=i\n",
    "\n",
    "    \n",
    "d = timeit.Timer(partial(equal,n=50)).timeit(3000)\n",
    "m = timeit.Timer(partial(index,n=50)).timeit(3000)"
   ]
  },
  {
   "cell_type": "code",
   "execution_count": 41,
   "id": "standard-desire",
   "metadata": {},
   "outputs": [
    {
     "data": {
      "text/plain": [
       "1.1824435581963082"
      ]
     },
     "execution_count": 41,
     "metadata": {},
     "output_type": "execute_result"
    }
   ],
   "source": [
    "d/m"
   ]
  },
  {
   "cell_type": "code",
   "execution_count": null,
   "id": "sixth-infection",
   "metadata": {},
   "outputs": [],
   "source": []
  }
 ],
 "metadata": {
  "kernelspec": {
   "display_name": "Python 3",
   "language": "python",
   "name": "python3"
  },
  "language_info": {
   "codemirror_mode": {
    "name": "ipython",
    "version": 3
   },
   "file_extension": ".py",
   "mimetype": "text/x-python",
   "name": "python",
   "nbconvert_exporter": "python",
   "pygments_lexer": "ipython3",
   "version": "3.9.0"
  }
 },
 "nbformat": 4,
 "nbformat_minor": 5
}
